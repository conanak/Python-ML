{
  "nbformat": 4,
  "nbformat_minor": 0,
  "metadata": {
    "colab": {
      "provenance": [],
      "toc_visible": true
    },
    "kernelspec": {
      "name": "python3",
      "display_name": "Python 3"
    },
    "language_info": {
      "name": "python"
    }
  },
  "cells": [
    {
      "cell_type": "markdown",
      "source": [
        "# Buổi 01 | 03/09/24\n",
        "\n",
        "[![Open In Colab](https://colab.research.google.com/assets/colab-badge.svg)](https://colab.research.google.com/drive/17xLlZzgyF7387NMLTXRpEu1Et2TVwvKc#scrollTo=PgYUyzq_JwbG)"
      ],
      "metadata": {
        "id": "PgYUyzq_JwbG"
      }
    },
    {
      "cell_type": "markdown",
      "metadata": {
        "id": "aVRfiuCK-9Q3"
      },
      "source": [
        "#Data structures"
      ]
    },
    {
      "cell_type": "code",
      "metadata": {
        "colab": {
          "base_uri": "https://localhost:8080/"
        },
        "id": "ryC9qfb5oVtJ",
        "outputId": "35268099-bcfe-4485-f101-a6cfcfb481c7"
      },
      "source": [
        "a = True\n",
        "type(a)"
      ],
      "execution_count": null,
      "outputs": [
        {
          "output_type": "execute_result",
          "data": {
            "text/plain": [
              "bool"
            ]
          },
          "metadata": {
            "tags": []
          },
          "execution_count": 3
        }
      ]
    },
    {
      "cell_type": "code",
      "metadata": {
        "colab": {
          "base_uri": "https://localhost:8080/"
        },
        "id": "wC5c9j4bqgfs",
        "outputId": "44fa4756-08c2-410d-db5b-f111397f87ba"
      },
      "source": [
        "a = 10\n",
        "b = 3\n",
        "print(divmod(a,b))\n",
        "print(a**b)"
      ],
      "execution_count": null,
      "outputs": [
        {
          "output_type": "stream",
          "text": [
            "(3, 1)\n",
            "1000\n"
          ],
          "name": "stdout"
        }
      ]
    },
    {
      "cell_type": "code",
      "metadata": {
        "id": "YysCQenioimO"
      },
      "source": [
        "import math"
      ],
      "execution_count": null,
      "outputs": []
    },
    {
      "cell_type": "code",
      "metadata": {
        "colab": {
          "base_uri": "https://localhost:8080/"
        },
        "id": "D3p6l35XrSey",
        "outputId": "4dd460b3-1643-4fc6-9795-7a6fea175581"
      },
      "source": [
        "lst = ['apples', 1, 'oranges']\n",
        "lst[0] = 2\n",
        "lst"
      ],
      "execution_count": null,
      "outputs": [
        {
          "output_type": "execute_result",
          "data": {
            "text/plain": [
              "[2, 1, 'oranges']"
            ]
          },
          "metadata": {
            "tags": []
          },
          "execution_count": 6
        }
      ]
    },
    {
      "cell_type": "code",
      "metadata": {
        "colab": {
          "base_uri": "https://localhost:8080/",
          "height": 208
        },
        "id": "C997dejkrdA2",
        "outputId": "355384e1-4493-4999-8137-8b0b10425b93"
      },
      "source": [
        "# cac phan tu trong tuple khong sua duoc (immutable)\n",
        "tup = ('apples', 1, 'oranges')\n",
        "tup[0] = 2\n",
        "tup"
      ],
      "execution_count": null,
      "outputs": [
        {
          "output_type": "error",
          "ename": "TypeError",
          "evalue": "ignored",
          "traceback": [
            "\u001b[0;31m---------------------------------------------------------------------------\u001b[0m",
            "\u001b[0;31mTypeError\u001b[0m                                 Traceback (most recent call last)",
            "\u001b[0;32m<ipython-input-7-267db5610bb1>\u001b[0m in \u001b[0;36m<module>\u001b[0;34m()\u001b[0m\n\u001b[1;32m      1\u001b[0m \u001b[0mtup\u001b[0m \u001b[0;34m=\u001b[0m \u001b[0;34m(\u001b[0m\u001b[0;34m'apples'\u001b[0m\u001b[0;34m,\u001b[0m \u001b[0;36m1\u001b[0m\u001b[0;34m,\u001b[0m \u001b[0;34m'oranges'\u001b[0m\u001b[0;34m)\u001b[0m\u001b[0;34m\u001b[0m\u001b[0;34m\u001b[0m\u001b[0m\n\u001b[0;32m----> 2\u001b[0;31m \u001b[0mtup\u001b[0m\u001b[0;34m[\u001b[0m\u001b[0;36m0\u001b[0m\u001b[0;34m]\u001b[0m \u001b[0;34m=\u001b[0m \u001b[0;36m2\u001b[0m\u001b[0;34m\u001b[0m\u001b[0;34m\u001b[0m\u001b[0m\n\u001b[0m\u001b[1;32m      3\u001b[0m \u001b[0mtup\u001b[0m\u001b[0;34m\u001b[0m\u001b[0;34m\u001b[0m\u001b[0m\n",
            "\u001b[0;31mTypeError\u001b[0m: 'tuple' object does not support item assignment"
          ]
        }
      ]
    },
    {
      "cell_type": "code",
      "metadata": {
        "colab": {
          "base_uri": "https://localhost:8080/"
        },
        "id": "ny15GAF_roEw",
        "outputId": "77fb5efc-9c91-45e4-ee5f-a96d5ccb8d97"
      },
      "source": [
        "x = range(0, 50, 5)\n",
        "list(x)"
      ],
      "execution_count": null,
      "outputs": [
        {
          "output_type": "execute_result",
          "data": {
            "text/plain": [
              "[0, 5, 10, 15, 20, 25, 30, 35, 40, 45]"
            ]
          },
          "metadata": {
            "tags": []
          },
          "execution_count": 11
        }
      ]
    },
    {
      "cell_type": "code",
      "metadata": {
        "colab": {
          "base_uri": "https://localhost:8080/"
        },
        "id": "oyMyY0wrsdWt",
        "outputId": "e4b3d367-aacc-4681-ff3d-b055b01a7d1c"
      },
      "source": [
        "s = '\"Nguyen Tien Minh\"'\n",
        "print(s)"
      ],
      "execution_count": 1,
      "outputs": [
        {
          "output_type": "stream",
          "name": "stdout",
          "text": [
            "\"Nguyen Tien Minh\"\n"
          ]
        }
      ]
    },
    {
      "cell_type": "code",
      "metadata": {
        "colab": {
          "base_uri": "https://localhost:8080/"
        },
        "id": "XHrJS3B4sxiP",
        "outputId": "07193405-1fd0-4c26-eedb-c8939a75c789"
      },
      "source": [
        "s = \"I'm Minh\"\n",
        "print(s)"
      ],
      "execution_count": 2,
      "outputs": [
        {
          "output_type": "stream",
          "name": "stdout",
          "text": [
            "I'm Minh\n"
          ]
        }
      ]
    },
    {
      "cell_type": "code",
      "metadata": {
        "colab": {
          "base_uri": "https://localhost:8080/"
        },
        "id": "x42wsNWUtOWF",
        "outputId": "97718a45-d776-4c23-eb62-24d844463956"
      },
      "source": [
        "s = \"\"\"Nguyen\n",
        "Tien\n",
        "Minh\"\"\"\n",
        "print(s)"
      ],
      "execution_count": 3,
      "outputs": [
        {
          "output_type": "stream",
          "name": "stdout",
          "text": [
            "Nguyen\n",
            "Tien\n",
            "Minh\n"
          ]
        }
      ]
    },
    {
      "cell_type": "code",
      "metadata": {
        "colab": {
          "base_uri": "https://localhost:8080/"
        },
        "id": "aVmr-_R5tXDQ",
        "outputId": "203577eb-67de-4535-a255-83f4e7c77dac"
      },
      "source": [
        "lst = [1, [1,2,3], ['a', 'b', 'c'], (4,5,6)]\n",
        "print(lst)\n",
        "print(lst[2])\n",
        "print(lst[2][2])"
      ],
      "execution_count": 4,
      "outputs": [
        {
          "output_type": "stream",
          "name": "stdout",
          "text": [
            "[1, [1, 2, 3], ['a', 'b', 'c'], (4, 5, 6)]\n",
            "['a', 'b', 'c']\n",
            "c\n"
          ]
        }
      ]
    },
    {
      "cell_type": "code",
      "metadata": {
        "colab": {
          "base_uri": "https://localhost:8080/"
        },
        "id": "Z3nAJGh3ttAz",
        "outputId": "2ececd91-f7df-4702-bf04-a2a7810e56d4"
      },
      "source": [
        "Name = \"Minh, Vi, Thi, Duc, Le, Quy, Nhan\"\n",
        "print(Name[0:-1])\n",
        "print(Name[:])\n",
        "print(Name[:15])\n",
        "print(Name[15:])\n",
        "print(Name[0:7])\n",
        "print(Name[5:15])\n",
        "print(Name[-15:-5])\n",
        "print(Name[-1])"
      ],
      "execution_count": 5,
      "outputs": [
        {
          "output_type": "stream",
          "name": "stdout",
          "text": [
            "Minh, Vi, Thi, Duc, Le, Quy, Nha\n",
            "Minh, Vi, Thi, Duc, Le, Quy, Nhan\n",
            "Minh, Vi, Thi, \n",
            "Duc, Le, Quy, Nhan\n",
            "Minh, V\n",
            " Vi, Thi, \n",
            ", Le, Quy,\n",
            "n\n"
          ]
        }
      ]
    },
    {
      "cell_type": "code",
      "metadata": {
        "colab": {
          "base_uri": "https://localhost:8080/"
        },
        "id": "jR7tPqDnuZWy",
        "outputId": "1896f909-69b4-42a5-cfe4-74ba546e04d1"
      },
      "source": [
        "Name = [\"Minh, Vi, Thi, Duc, Le, Quy, Nhan\"]\n",
        "print(Name[0:-1])\n",
        "print(Name[:])\n",
        "print(Name[:5])\n",
        "print(Name[5:])\n",
        "print(Name[0:7])\n",
        "print(Name[1:5])\n",
        "print(Name[-5:-2])\n",
        "print(Name[-1])"
      ],
      "execution_count": 6,
      "outputs": [
        {
          "output_type": "stream",
          "name": "stdout",
          "text": [
            "[]\n",
            "['Minh, Vi, Thi, Duc, Le, Quy, Nhan']\n",
            "['Minh, Vi, Thi, Duc, Le, Quy, Nhan']\n",
            "[]\n",
            "['Minh, Vi, Thi, Duc, Le, Quy, Nhan']\n",
            "[]\n",
            "[]\n",
            "Minh, Vi, Thi, Duc, Le, Quy, Nhan\n"
          ]
        }
      ]
    },
    {
      "cell_type": "code",
      "metadata": {
        "colab": {
          "base_uri": "https://localhost:8080/"
        },
        "id": "iFvX6nVSvtX4",
        "outputId": "d395ff16-f336-4c90-be2f-488a26e6dbd5"
      },
      "source": [
        "lst = [1,2,3,4,5,6,7,8,9,10]\n",
        "print(lst[::2])"
      ],
      "execution_count": null,
      "outputs": [
        {
          "output_type": "stream",
          "text": [
            "[1, 3, 5, 7, 9]\n"
          ],
          "name": "stdout"
        }
      ]
    },
    {
      "cell_type": "code",
      "metadata": {
        "colab": {
          "base_uri": "https://localhost:8080/"
        },
        "id": "D9Wy7cJ0xLqg",
        "outputId": "b37f533d-91fd-4002-abea-69da793bfddd"
      },
      "source": [
        "a = [1,2,3]\n",
        "b = [1,2,3]\n",
        "print(a==b)\n",
        "print(a is b)"
      ],
      "execution_count": null,
      "outputs": [
        {
          "output_type": "stream",
          "text": [
            "True\n",
            "False\n"
          ],
          "name": "stdout"
        }
      ]
    },
    {
      "cell_type": "code",
      "metadata": {
        "colab": {
          "base_uri": "https://localhost:8080/"
        },
        "id": "8h9Y3D17xTBw",
        "outputId": "73e98be1-b7bc-4654-f8f7-873503b22535"
      },
      "source": [
        "b = a\n",
        "print(a is b)"
      ],
      "execution_count": null,
      "outputs": [
        {
          "output_type": "stream",
          "text": [
            "True\n"
          ],
          "name": "stdout"
        }
      ]
    },
    {
      "cell_type": "code",
      "metadata": {
        "colab": {
          "base_uri": "https://localhost:8080/"
        },
        "id": "9E4psN3jxjEO",
        "outputId": "14f45bcf-abd9-4913-e05e-2eedf754b882"
      },
      "source": [
        "b[1] = 10\n",
        "print(a)"
      ],
      "execution_count": null,
      "outputs": [
        {
          "output_type": "stream",
          "text": [
            "[1, 10, 3]\n"
          ],
          "name": "stdout"
        }
      ]
    },
    {
      "cell_type": "code",
      "metadata": {
        "colab": {
          "base_uri": "https://localhost:8080/"
        },
        "id": "X2rWF-hpxZra",
        "outputId": "f461f963-e647-41e6-b8fa-ebead3bee6f9"
      },
      "source": [
        "b = a[:]\n",
        "print(a)\n",
        "print(b)"
      ],
      "execution_count": null,
      "outputs": [
        {
          "output_type": "stream",
          "text": [
            "[1, 10, 3]\n",
            "[1, 10, 3]\n"
          ],
          "name": "stdout"
        }
      ]
    },
    {
      "cell_type": "code",
      "metadata": {
        "colab": {
          "base_uri": "https://localhost:8080/"
        },
        "id": "uibHew8pxhn2",
        "outputId": "1345b104-e888-47de-cfe9-bd43161caa89"
      },
      "source": [
        "a[0] = 5\n",
        "print(a)\n",
        "print(b)"
      ],
      "execution_count": null,
      "outputs": [
        {
          "output_type": "stream",
          "text": [
            "[5, 10, 3]\n",
            "[1, 10, 3]\n"
          ],
          "name": "stdout"
        }
      ]
    },
    {
      "cell_type": "code",
      "metadata": {
        "colab": {
          "base_uri": "https://localhost:8080/"
        },
        "id": "yT6MINo3xmY7",
        "outputId": "79836c28-a745-4b7c-8af9-3e4484354583"
      },
      "source": [
        "s = 'Nguyen Tien Minh'\n",
        "print(s*3)\n",
        "print(len(s))\n",
        "print(s.index('u'))\n",
        "print(s.count('h'))\n",
        "print(max(s))\n",
        "print(min(s))"
      ],
      "execution_count": 7,
      "outputs": [
        {
          "output_type": "stream",
          "name": "stdout",
          "text": [
            "Nguyen Tien MinhNguyen Tien MinhNguyen Tien Minh\n",
            "16\n",
            "2\n",
            "1\n",
            "y\n",
            " \n"
          ]
        }
      ]
    },
    {
      "cell_type": "code",
      "metadata": {
        "colab": {
          "base_uri": "https://localhost:8080/"
        },
        "id": "DVlMRsn5xrL9",
        "outputId": "f7aa578c-a7a2-40cb-adee-bd3f20565b6d"
      },
      "source": [
        "1 in (1,2,3)"
      ],
      "execution_count": null,
      "outputs": [
        {
          "output_type": "execute_result",
          "data": {
            "text/plain": [
              "True"
            ]
          },
          "metadata": {
            "tags": []
          },
          "execution_count": 60
        }
      ]
    },
    {
      "cell_type": "code",
      "metadata": {
        "colab": {
          "base_uri": "https://localhost:8080/"
        },
        "id": "aUSqguYJzNGm",
        "outputId": "152216d8-1c6d-4cbb-809d-e267cb30289b"
      },
      "source": [
        "lst = [[]]*3\n",
        "print(lst)"
      ],
      "execution_count": null,
      "outputs": [
        {
          "output_type": "stream",
          "text": [
            "[[], [], []]\n"
          ],
          "name": "stdout"
        }
      ]
    },
    {
      "cell_type": "code",
      "metadata": {
        "colab": {
          "base_uri": "https://localhost:8080/"
        },
        "id": "4CqwIH4HzPjo",
        "outputId": "551b17f6-a055-4bbb-cf1a-ba79a5ae7ed1"
      },
      "source": [
        "lst[0].append(5)\n",
        "print(lst)"
      ],
      "execution_count": null,
      "outputs": [
        {
          "output_type": "stream",
          "text": [
            "[[5], [5], [5]]\n"
          ],
          "name": "stdout"
        }
      ]
    },
    {
      "cell_type": "code",
      "metadata": {
        "colab": {
          "base_uri": "https://localhost:8080/"
        },
        "id": "Xll_zcEozWUk",
        "outputId": "ce869a55-dd11-4365-f63e-96aa169d1f93"
      },
      "source": [
        "lst = lst *2\n",
        "print(lst)"
      ],
      "execution_count": null,
      "outputs": [
        {
          "output_type": "stream",
          "text": [
            "[[5], [5], [5], [5], [5], [5]]\n"
          ],
          "name": "stdout"
        }
      ]
    },
    {
      "cell_type": "code",
      "metadata": {
        "colab": {
          "base_uri": "https://localhost:8080/"
        },
        "id": "F4jOL0kHz2G0",
        "outputId": "fc330a91-d68e-43c0-a687-8e270e14c52f"
      },
      "source": [
        "Name = [\"Minh\", \"Vi\", \"Thi\", \"Duc\",\" Le\", \"Quy\", \"Nhan\"]\n",
        "Name.sort()\n",
        "print(Name)\n",
        "\n",
        "#How to sort by score?\n",
        "student = [(\"Nam\", 10), (\"Minh\", 4), (\"Xuan\", 8), (\"My\", 2)]\n",
        "student.sort(key=lambda x: x[1])\n",
        "print(student)\n",
        "\n",
        "student.sort(key=lambda x: x[1], reverse=True)\n",
        "print(student)"
      ],
      "execution_count": 8,
      "outputs": [
        {
          "output_type": "stream",
          "name": "stdout",
          "text": [
            "[' Le', 'Duc', 'Minh', 'Nhan', 'Quy', 'Thi', 'Vi']\n",
            "[('My', 2), ('Minh', 4), ('Xuan', 8), ('Nam', 10)]\n",
            "[('Nam', 10), ('Xuan', 8), ('Minh', 4), ('My', 2)]\n"
          ]
        }
      ]
    },
    {
      "cell_type": "code",
      "metadata": {
        "id": "lewx6XUg2L01"
      },
      "source": [
        "name = 'Pham Duc The'"
      ],
      "execution_count": null,
      "outputs": []
    },
    {
      "cell_type": "code",
      "metadata": {
        "colab": {
          "base_uri": "https://localhost:8080/"
        },
        "id": "cDj6LgTA40RN",
        "outputId": "473c31e6-4726-4683-994a-a68a4c8f1ff5"
      },
      "source": [
        "name.count('h')"
      ],
      "execution_count": null,
      "outputs": [
        {
          "output_type": "execute_result",
          "data": {
            "text/plain": [
              "2"
            ]
          },
          "metadata": {
            "tags": []
          },
          "execution_count": 82
        }
      ]
    },
    {
      "cell_type": "code",
      "metadata": {
        "colab": {
          "base_uri": "https://localhost:8080/"
        },
        "id": "iVpfL9uJ435b",
        "outputId": "217c5897-a726-4fd0-b046-57d04623480a"
      },
      "source": [
        "name.find('a')"
      ],
      "execution_count": null,
      "outputs": [
        {
          "output_type": "execute_result",
          "data": {
            "text/plain": [
              "2"
            ]
          },
          "metadata": {
            "tags": []
          },
          "execution_count": 85
        }
      ]
    },
    {
      "cell_type": "code",
      "metadata": {
        "colab": {
          "base_uri": "https://localhost:8080/"
        },
        "id": "ELscrwul48SN",
        "outputId": "6433875e-d25f-4297-a8ba-20dba5224d5f"
      },
      "source": [
        "name.find('K')"
      ],
      "execution_count": null,
      "outputs": [
        {
          "output_type": "execute_result",
          "data": {
            "text/plain": [
              "-1"
            ]
          },
          "metadata": {
            "tags": []
          },
          "execution_count": 86
        }
      ]
    },
    {
      "cell_type": "code",
      "metadata": {
        "colab": {
          "base_uri": "https://localhost:8080/",
          "height": 35
        },
        "id": "wxYx0ENv5H0_",
        "outputId": "14d2fb48-2d74-449e-f786-5271c3ab2b60"
      },
      "source": [
        "name.replace('e', 'e Pro')"
      ],
      "execution_count": null,
      "outputs": [
        {
          "output_type": "execute_result",
          "data": {
            "application/vnd.google.colaboratory.intrinsic+json": {
              "type": "string"
            },
            "text/plain": [
              "'Pham Duc The Pro'"
            ]
          },
          "metadata": {
            "tags": []
          },
          "execution_count": 87
        }
      ]
    },
    {
      "cell_type": "code",
      "metadata": {
        "colab": {
          "base_uri": "https://localhost:8080/",
          "height": 35
        },
        "id": "HI8sFZxA5SyE",
        "outputId": "b2e347a8-3c8c-43b1-c5e0-18dccd3c8af4"
      },
      "source": [
        "name.upper()"
      ],
      "execution_count": null,
      "outputs": [
        {
          "output_type": "execute_result",
          "data": {
            "application/vnd.google.colaboratory.intrinsic+json": {
              "type": "string"
            },
            "text/plain": [
              "'PHAM DUC THE'"
            ]
          },
          "metadata": {
            "tags": []
          },
          "execution_count": 88
        }
      ]
    },
    {
      "cell_type": "code",
      "metadata": {
        "colab": {
          "base_uri": "https://localhost:8080/"
        },
        "id": "riN4frAG5V9T",
        "outputId": "f68e43e6-88cc-4b75-e736-54a02f75dc37"
      },
      "source": [
        "name.split(' ')"
      ],
      "execution_count": null,
      "outputs": [
        {
          "output_type": "execute_result",
          "data": {
            "text/plain": [
              "['Pham', 'Duc', 'The']"
            ]
          },
          "metadata": {
            "tags": []
          },
          "execution_count": 89
        }
      ]
    },
    {
      "cell_type": "code",
      "metadata": {
        "colab": {
          "base_uri": "https://localhost:8080/",
          "height": 35
        },
        "id": "NV_XMvmx5aS9",
        "outputId": "19bcaa10-4fcf-43ad-89cb-2497db215cf2"
      },
      "source": [
        "'-'.join(name)"
      ],
      "execution_count": null,
      "outputs": [
        {
          "output_type": "execute_result",
          "data": {
            "application/vnd.google.colaboratory.intrinsic+json": {
              "type": "string"
            },
            "text/plain": [
              "'P-h-a-m- -D-u-c- -T-h-e'"
            ]
          },
          "metadata": {
            "tags": []
          },
          "execution_count": 91
        }
      ]
    },
    {
      "cell_type": "code",
      "metadata": {
        "colab": {
          "base_uri": "https://localhost:8080/",
          "height": 190
        },
        "id": "A6uL8CWH5msQ",
        "outputId": "77083ca1-4986-417c-961c-2efb540dc14c"
      },
      "source": [
        "a = [1,2,3,4,5,6]\n",
        "''.join(a)"
      ],
      "execution_count": null,
      "outputs": [
        {
          "output_type": "error",
          "ename": "TypeError",
          "evalue": "ignored",
          "traceback": [
            "\u001b[0;31m---------------------------------------------------------------------------\u001b[0m",
            "\u001b[0;31mTypeError\u001b[0m                                 Traceback (most recent call last)",
            "\u001b[0;32m<ipython-input-93-81668d340d68>\u001b[0m in \u001b[0;36m<module>\u001b[0;34m()\u001b[0m\n\u001b[1;32m      1\u001b[0m \u001b[0ma\u001b[0m \u001b[0;34m=\u001b[0m \u001b[0;34m[\u001b[0m\u001b[0;36m1\u001b[0m\u001b[0;34m,\u001b[0m\u001b[0;36m2\u001b[0m\u001b[0;34m,\u001b[0m\u001b[0;36m3\u001b[0m\u001b[0;34m,\u001b[0m\u001b[0;36m4\u001b[0m\u001b[0;34m,\u001b[0m\u001b[0;36m5\u001b[0m\u001b[0;34m,\u001b[0m\u001b[0;36m6\u001b[0m\u001b[0;34m]\u001b[0m\u001b[0;34m\u001b[0m\u001b[0;34m\u001b[0m\u001b[0m\n\u001b[0;32m----> 2\u001b[0;31m \u001b[0;34m''\u001b[0m\u001b[0;34m.\u001b[0m\u001b[0mjoin\u001b[0m\u001b[0;34m(\u001b[0m\u001b[0ma\u001b[0m\u001b[0;34m)\u001b[0m\u001b[0;34m\u001b[0m\u001b[0;34m\u001b[0m\u001b[0m\n\u001b[0m",
            "\u001b[0;31mTypeError\u001b[0m: sequence item 0: expected str instance, int found"
          ]
        }
      ]
    },
    {
      "cell_type": "code",
      "metadata": {
        "colab": {
          "base_uri": "https://localhost:8080/",
          "height": 35
        },
        "id": "rUfrz8KE6KBt",
        "outputId": "6c92ba74-8aa8-4010-c18a-1faad0eadc5f"
      },
      "source": [
        "''.join(map(str,a))"
      ],
      "execution_count": null,
      "outputs": [
        {
          "output_type": "execute_result",
          "data": {
            "application/vnd.google.colaboratory.intrinsic+json": {
              "type": "string"
            },
            "text/plain": [
              "'123456'"
            ]
          },
          "metadata": {
            "tags": []
          },
          "execution_count": 95
        }
      ]
    },
    {
      "cell_type": "code",
      "metadata": {
        "colab": {
          "base_uri": "https://localhost:8080/"
        },
        "id": "S75ukVZ46OJr",
        "outputId": "0a3d5b43-8cff-48f7-8f0c-a87036a4322a"
      },
      "source": [
        "c = dict(zip(['one', 'two', 'three'], [1, 2, 3]))\n",
        "c"
      ],
      "execution_count": null,
      "outputs": [
        {
          "output_type": "execute_result",
          "data": {
            "text/plain": [
              "{'one': 1, 'three': 3, 'two': 2}"
            ]
          },
          "metadata": {
            "tags": []
          },
          "execution_count": 97
        }
      ]
    },
    {
      "cell_type": "code",
      "metadata": {
        "colab": {
          "base_uri": "https://localhost:8080/"
        },
        "id": "Jaxc0im58xdi",
        "outputId": "22650b7c-6a57-46bc-f673-a768dc671df3"
      },
      "source": [
        "a = 'Minh'\n",
        "b = 'Nguyen'\n",
        "c = 'Tien'\n",
        "print(a + ' ' + b, c)"
      ],
      "execution_count": null,
      "outputs": [
        {
          "output_type": "stream",
          "text": [
            "Pham Duc The\n"
          ],
          "name": "stdout"
        }
      ]
    },
    {
      "cell_type": "code",
      "metadata": {
        "colab": {
          "base_uri": "https://localhost:8080/"
        },
        "id": "k-feEE6p_DlZ",
        "outputId": "1d0392f7-a817-4b51-f3d6-79a6b888393d"
      },
      "source": [
        "print('{} {} {}'.format(a,b,c))"
      ],
      "execution_count": null,
      "outputs": [
        {
          "output_type": "stream",
          "text": [
            "Pham Duc The\n"
          ],
          "name": "stdout"
        }
      ]
    },
    {
      "cell_type": "code",
      "metadata": {
        "colab": {
          "base_uri": "https://localhost:8080/"
        },
        "id": "Pz3M_5lY_TAL",
        "outputId": "420a870f-c7d2-4df1-fac5-3531c39a85da"
      },
      "source": [
        "print('{0} {1} cost ${2}'.format(6, 'bananas', 1.74))"
      ],
      "execution_count": null,
      "outputs": [
        {
          "output_type": "stream",
          "text": [
            "6 bananas cost $1.74\n"
          ],
          "name": "stdout"
        }
      ]
    },
    {
      "cell_type": "code",
      "metadata": {
        "colab": {
          "base_uri": "https://localhost:8080/"
        },
        "id": "BAUKYPYrAbty",
        "outputId": "85427ce9-9ea6-466b-e2c4-84c9bd398678"
      },
      "source": [
        "print('{a} {b} cost ${c}'.format(b='bananas', a=6, c=1.74))"
      ],
      "execution_count": null,
      "outputs": [
        {
          "output_type": "stream",
          "text": [
            "6 bananas cost $1.74\n"
          ],
          "name": "stdout"
        }
      ]
    },
    {
      "cell_type": "code",
      "metadata": {
        "colab": {
          "base_uri": "https://localhost:8080/",
          "height": 35
        },
        "id": "Osj92_LyAy5w",
        "outputId": "be51a6ae-5c17-4cc7-8745-55c6296af5e1"
      },
      "source": [
        "'{0}/{1}/{2}'.format('Minh', 'Nguyen', 'Tien')"
      ],
      "execution_count": 9,
      "outputs": [
        {
          "output_type": "execute_result",
          "data": {
            "text/plain": [
              "'Minh/Nguyen/Tien'"
            ],
            "application/vnd.google.colaboratory.intrinsic+json": {
              "type": "string"
            }
          },
          "metadata": {},
          "execution_count": 9
        }
      ]
    },
    {
      "cell_type": "code",
      "metadata": {
        "colab": {
          "base_uri": "https://localhost:8080/",
          "height": 35
        },
        "id": "F8e0aNIuA77Q",
        "outputId": "c9937769-6599-42e3-9098-a1c79788186a"
      },
      "source": [
        "'{2}.{1}.{0}/{0}{0}.{1}{1}.{2}{2}'.format('Pham', 'Duc', 'The')"
      ],
      "execution_count": null,
      "outputs": [
        {
          "output_type": "execute_result",
          "data": {
            "application/vnd.google.colaboratory.intrinsic+json": {
              "type": "string"
            },
            "text/plain": [
              "'The.Duc.Pham/PhamPham.DucDuc.TheThe'"
            ]
          },
          "metadata": {
            "tags": []
          },
          "execution_count": 108
        }
      ]
    },
    {
      "cell_type": "code",
      "metadata": {
        "colab": {
          "base_uri": "https://localhost:8080/",
          "height": 35
        },
        "id": "pR-6pu5eBAEq",
        "outputId": "a5dfec95-0824-4a45-9a9a-fa2d24cbe6c8"
      },
      "source": [
        "'{}/{}/{}'.format('Minh', 'Nguyen', 'Tien')"
      ],
      "execution_count": 11,
      "outputs": [
        {
          "output_type": "execute_result",
          "data": {
            "text/plain": [
              "'Minh/Nguyen/Tien'"
            ],
            "application/vnd.google.colaboratory.intrinsic+json": {
              "type": "string"
            }
          },
          "metadata": {},
          "execution_count": 11
        }
      ]
    },
    {
      "cell_type": "code",
      "metadata": {
        "colab": {
          "base_uri": "https://localhost:8080/",
          "height": 35
        },
        "id": "qpRjkmMEBU44",
        "outputId": "8a5250bf-a162-4e52-d38e-8c635daedcb2"
      },
      "source": [
        "'{}{}'.format('Minh', 'NGuyen', 'Tien')"
      ],
      "execution_count": 10,
      "outputs": [
        {
          "output_type": "execute_result",
          "data": {
            "text/plain": [
              "'MinhNGuyen'"
            ],
            "application/vnd.google.colaboratory.intrinsic+json": {
              "type": "string"
            }
          },
          "metadata": {},
          "execution_count": 10
        }
      ]
    },
    {
      "cell_type": "markdown",
      "metadata": {
        "id": "Z2C0SYMh_d9b"
      },
      "source": [
        "# Conditions, Branching & Loops"
      ]
    },
    {
      "cell_type": "code",
      "metadata": {
        "colab": {
          "base_uri": "https://localhost:8080/"
        },
        "id": "ru-eYVRyBawY",
        "outputId": "e48029e8-c661-4d51-b5a4-4e8b35e62c3e"
      },
      "source": [
        "for x in range(1,5):\n",
        "  print(str(x).rjust(2),\n",
        "        str(x**2).rjust(3),\n",
        "        str(x**3).rjust(3))"
      ],
      "execution_count": null,
      "outputs": [
        {
          "output_type": "stream",
          "text": [
            " 1   1   1\n",
            " 2   4   8\n",
            " 3   9  27\n",
            " 4  16  64\n"
          ],
          "name": "stdout"
        }
      ]
    },
    {
      "cell_type": "code",
      "metadata": {
        "colab": {
          "base_uri": "https://localhost:8080/"
        },
        "id": "exuIJ7IKCPgy",
        "outputId": "480c94b0-1117-4cff-e9a3-563266280d44"
      },
      "source": [
        "for x in range(1,5):\n",
        "  print(\"{:2d} {:3d} {:3d}\".format(x, x**2, x**3))"
      ],
      "execution_count": null,
      "outputs": [
        {
          "output_type": "stream",
          "text": [
            " 1   1   1\n",
            " 2   4   8\n",
            " 3   9  27\n",
            " 4  16  64\n"
          ],
          "name": "stdout"
        }
      ]
    },
    {
      "cell_type": "code",
      "metadata": {
        "colab": {
          "base_uri": "https://localhost:8080/"
        },
        "id": "98g93DgeDFwZ",
        "outputId": "d24c7705-f9b0-49bc-8f22-af2e1429ec3c"
      },
      "source": [
        "print(\"{:03d} {:05.2f}\".format(12, 12.5435345))"
      ],
      "execution_count": null,
      "outputs": [
        {
          "output_type": "stream",
          "text": [
            "012 12.54\n"
          ],
          "name": "stdout"
        }
      ]
    },
    {
      "cell_type": "code",
      "metadata": {
        "colab": {
          "base_uri": "https://localhost:8080/"
        },
        "id": "N6L5EPtFDRYG",
        "outputId": "ce4d2684-1eaa-4187-9449-c37625b95451"
      },
      "source": [
        "print(\"{:*<10}\".format(\"Hello\"))"
      ],
      "execution_count": null,
      "outputs": [
        {
          "output_type": "stream",
          "text": [
            "Hello*****\n"
          ],
          "name": "stdout"
        }
      ]
    },
    {
      "cell_type": "code",
      "metadata": {
        "colab": {
          "base_uri": "https://localhost:8080/"
        },
        "id": "IXhrnoPXDW9N",
        "outputId": "56215e5a-cba6-4b44-cea8-804f9c8908bf"
      },
      "source": [
        "print(\"{:*>10}\".format(\"Hello\"))"
      ],
      "execution_count": null,
      "outputs": [
        {
          "output_type": "stream",
          "text": [
            "*****Hello\n"
          ],
          "name": "stdout"
        }
      ]
    },
    {
      "cell_type": "code",
      "metadata": {
        "colab": {
          "base_uri": "https://localhost:8080/"
        },
        "id": "JrHJwJoaDY44",
        "outputId": "bfe49a60-393b-46a6-d64d-1c1d513f1566"
      },
      "source": [
        "print(\"{:->10}\".format(\"Hello\"))"
      ],
      "execution_count": null,
      "outputs": [
        {
          "output_type": "stream",
          "text": [
            "-----Hello\n"
          ],
          "name": "stdout"
        }
      ]
    },
    {
      "cell_type": "code",
      "metadata": {
        "colab": {
          "base_uri": "https://localhost:8080/"
        },
        "id": "41twFvQ-Dd_G",
        "outputId": "acb63aae-cbfd-403e-e850-79c4634753c7"
      },
      "source": [
        "print(\"{:-^100}\".format(\"Hello\"))"
      ],
      "execution_count": null,
      "outputs": [
        {
          "output_type": "stream",
          "text": [
            "-----------------------------------------------Hello------------------------------------------------\n"
          ],
          "name": "stdout"
        }
      ]
    },
    {
      "cell_type": "code",
      "metadata": {
        "colab": {
          "base_uri": "https://localhost:8080/"
        },
        "id": "aAtAzrT6Dj_O",
        "outputId": "26b47b68-9404-4d20-d011-a90144140a48"
      },
      "source": [
        "a=10\n",
        "b=15\n",
        "print(f'{a} + {b} = {a + b}')"
      ],
      "execution_count": null,
      "outputs": [
        {
          "output_type": "stream",
          "text": [
            "10 + 15 = 25\n"
          ],
          "name": "stdout"
        }
      ]
    },
    {
      "cell_type": "code",
      "metadata": {
        "id": "7TCFxsgpDq-p"
      },
      "source": [
        "s = 'k'"
      ],
      "execution_count": null,
      "outputs": []
    },
    {
      "cell_type": "code",
      "metadata": {
        "colab": {
          "base_uri": "https://localhost:8080/"
        },
        "id": "50zN2McKDgBq",
        "outputId": "bdec9958-d219-45ef-b301-1f24036a46ba"
      },
      "source": [
        "s.islower()"
      ],
      "execution_count": null,
      "outputs": [
        {
          "output_type": "execute_result",
          "data": {
            "text/plain": [
              "True"
            ]
          },
          "metadata": {
            "tags": []
          },
          "execution_count": 2
        }
      ]
    },
    {
      "cell_type": "code",
      "metadata": {
        "colab": {
          "base_uri": "https://localhost:8080/"
        },
        "id": "dwFRILvjc1nq",
        "outputId": "9349b21f-0bf3-4bdf-809f-207c6f442c02"
      },
      "source": [
        "n = int(input())\n",
        "m = int(input())\n",
        "\n",
        "# StarCode\n",
        "s = {value for value in range(n+1)}\n",
        "s.remove(m)\n",
        "result = \"\"\n",
        "for i in s:\n",
        "  result = result + str(i)*2\n",
        "\n",
        "print(result)\n",
        "# print(result)"
      ],
      "execution_count": null,
      "outputs": [
        {
          "output_type": "stream",
          "text": [
            "5\n",
            "2\n",
            "0011334455\n"
          ],
          "name": "stdout"
        }
      ]
    },
    {
      "cell_type": "code",
      "metadata": {
        "id": "0tYZvu5WdyX5",
        "colab": {
          "base_uri": "https://localhost:8080/"
        },
        "outputId": "c8531957-3ae4-476e-8993-cbf13c50de1b"
      },
      "source": [
        "s1 = input()\n",
        "s2 = input()\n",
        "\n",
        "lst1 = []\n",
        "lst2 = []\n",
        "result = ''\n",
        "\n",
        "lst1 = s1.split(',')\n",
        "lst2 = s2.split(',')\n",
        "\n",
        "for i in range(len(lst1)):\n",
        "  if int(lst1[i]) > int(lst2[i]):\n",
        "    result = result + lst1[i] + ','\n",
        "  else:\n",
        "    result = result + lst2[i] + ','\n",
        "\n",
        "result = result[:-1]\n",
        "print(result)"
      ],
      "execution_count": null,
      "outputs": [
        {
          "output_type": "stream",
          "text": [
            "1,2,3\n",
            "2,2,4\n",
            "['1', '2', '3']\n",
            "['2', '2', '4']\n",
            "['2', '2', '4']\n"
          ],
          "name": "stdout"
        }
      ]
    },
    {
      "cell_type": "code",
      "metadata": {
        "id": "k-PF39oBeHfv",
        "colab": {
          "base_uri": "https://localhost:8080/"
        },
        "outputId": "09ce90d5-a954-4a15-86e7-4b93bac107db"
      },
      "source": [
        "dic = {'Object': 'Python', 'Mark': 10, 'Student': 'NguyenVanNam', 'Male': True, 'City': 'HoChiMinh'}\n",
        "print(dic)\n",
        "dic['Male'] = False\n",
        "print(dic)\n",
        "print(dic.keys())\n",
        "print(dic.values())"
      ],
      "execution_count": null,
      "outputs": [
        {
          "output_type": "stream",
          "text": [
            "{'Object': 'Python', 'Mark': 10, 'Student': 'NguyenVanNam', 'Male': True, 'City': 'HoChiMinh'}\n",
            "{'Object': 'Python', 'Mark': 10, 'Student': 'NguyenVanNam', 'Male': False, 'City': 'HoChiMinh'}\n",
            "dict_keys(['Object', 'Mark', 'Student', 'Male', 'City'])\n",
            "dict_values(['Python', 10, 'NguyenVanNam', False, 'HoChiMinh'])\n"
          ],
          "name": "stdout"
        }
      ]
    },
    {
      "cell_type": "markdown",
      "metadata": {
        "id": "TVn5AvgoAGwF"
      },
      "source": [
        "#Bài Tập"
      ]
    },
    {
      "cell_type": "markdown",
      "metadata": {
        "id": "dZJX4hKiAMpD"
      },
      "source": [
        "##ViPy_021_Xử lý tiếng Việt"
      ]
    },
    {
      "cell_type": "markdown",
      "metadata": {
        "id": "6sDYUMlBAReu"
      },
      "source": [
        "Bạn Nam đang gõ văn bản thì bàn phím bị lỗi không thể gõ được dấu cách. Nam khắc phục bằng cách viết thêm dấu | giữ mỗi từ. Việc của bạn là hãy giúp Nam:\n",
        "\n",
        "Bỏ dấu | và thêm dấu cách vào giữa các từ\n",
        "Chuyễn các chữ hoa thành chữ thường.\n",
        "Ví dụ:\n",
        "\n",
        "Input\n",
        "\n",
        "Nam|Hom|Nay|Bi|Om.|Nam|Muon|Xin|Phep|Co|Nghi|Hoc|7|Ngay.\n",
        "\n",
        "Output:\n",
        "\n",
        "nam hom nay bi om. nam muon xin phep co nghi hoc 7 ngay.\n",
        "\n",
        "Input Format\n",
        "\n",
        ".\n",
        "\n",
        "Constraints\n",
        "\n",
        ".\n",
        "\n",
        "Output Format\n",
        "\n",
        "."
      ]
    },
    {
      "cell_type": "code",
      "metadata": {
        "id": "RoRS3LNOWcmS",
        "colab": {
          "base_uri": "https://localhost:8080/"
        },
        "outputId": "971ca20c-a672-454c-b968-a6a7038c48f5"
      },
      "source": [
        "#!/bin/python3\n",
        "\n",
        "import math\n",
        "import os\n",
        "import random\n",
        "import re\n",
        "import sys\n",
        "\n",
        "\n",
        "\n",
        "if __name__ == '__main__':\n",
        "    input_data = input()\n",
        "    result = input_data.replace('|', ' ')\n",
        "    result = result.lower()\n",
        "    print(result)"
      ],
      "execution_count": null,
      "outputs": [
        {
          "output_type": "stream",
          "text": [
            "Nam|Hom|Nay|Bi|Om.|Nam|Muon|Xin|Phep|Co|Nghi|Hoc|7|Ngay.\n",
            "nam hom nay bi om. nam muon xin phep co nghi hoc 7 ngay.\n"
          ],
          "name": "stdout"
        }
      ]
    },
    {
      "cell_type": "markdown",
      "metadata": {
        "id": "eE5JuGzZAi35"
      },
      "source": [
        "##ViPy_022_Dict"
      ]
    },
    {
      "cell_type": "markdown",
      "metadata": {
        "id": "R10VwROcAmnL"
      },
      "source": [
        "Nhập 1 dict có giá trị như sau:\n",
        "\n",
        "Object: 'Python'\n",
        "\n",
        "Mark: 10\n",
        "\n",
        "Student: 'NguyenVanNam'\n",
        "\n",
        "Male: True\n",
        "\n",
        "City: 'HoChiMinh'\n",
        "\n",
        "+ Xuất dữ liệu đó ra màn hình\n",
        "+ Chuyển giới tính Male = False xuất ra màn hình\n",
        "+ Xuất màn hình danh sách các keys\n",
        "+ Xuất màn hình danh sách cac value\n",
        "\n",
        "Input Format\n",
        "\n",
        ".\n",
        "\n",
        "Constraints\n",
        "\n",
        ".\n",
        "\n",
        "Output Format\n",
        "\n",
        "."
      ]
    },
    {
      "cell_type": "code",
      "metadata": {
        "colab": {
          "base_uri": "https://localhost:8080/"
        },
        "id": "Xl_UkjxdAbLj",
        "outputId": "39cfc1bc-5a0e-4805-cb5d-af82e5e00bf6"
      },
      "source": [
        "#!/bin/python3\n",
        "\n",
        "import math\n",
        "import os\n",
        "import random\n",
        "import re\n",
        "import sys\n",
        "\n",
        "\n",
        "\n",
        "if __name__ == '__main__':\n",
        "    # Write your code here\n",
        "    dic = {'Object': 'Python', 'Mark': 10, 'Student': 'NguyenVanNam', 'Male': True, 'City': 'HoChiMinh'}\n",
        "    print(dic)\n",
        "    dic['Male'] = False\n",
        "    print(dic)\n",
        "    print(dic.keys())\n",
        "    print(dic.values())"
      ],
      "execution_count": null,
      "outputs": [
        {
          "output_type": "stream",
          "text": [
            "{'Object': 'Python', 'Mark': 10, 'Student': 'NguyenVanNam', 'Male': True, 'City': 'HoChiMinh'}\n",
            "{'Object': 'Python', 'Mark': 10, 'Student': 'NguyenVanNam', 'Male': False, 'City': 'HoChiMinh'}\n",
            "dict_keys(['Object', 'Mark', 'Student', 'Male', 'City'])\n",
            "dict_values(['Python', 10, 'NguyenVanNam', False, 'HoChiMinh'])\n"
          ],
          "name": "stdout"
        }
      ]
    },
    {
      "cell_type": "markdown",
      "metadata": {
        "id": "AJCyAeeNA5yb"
      },
      "source": [
        "##ViPy_022_Set"
      ]
    },
    {
      "cell_type": "markdown",
      "metadata": {
        "id": "yFliZhFUA6oA"
      },
      "source": [
        "Nhập 2 số n, m. Thực hiện các thao tác sau:\n",
        "\n",
        "+ Tạo 1 Set chứa các giá trị chạy từ 0 -> n (0, 1, 2, ..., n)\n",
        "+ Xoá phần từ có giá trị m trong Set\n",
        "+ Từ set này hãy tạo 1 chuỗi string bao gồm các chữ số được lặp lại 2 lần theo thứ tự tăng dần.\n",
        "+ Xuất ra màn hình kết quả nhận được.\n",
        "Ví dụ:\n",
        "\n",
        "n = 5, m = 2\n",
        "\n",
        "Set = {0, 1, 2, 3, 4, 5}\n",
        "\n",
        "Xoá phần tử 2\n",
        "\n",
        "Set = {0, 1, 3, 4, 5}\n",
        "Xuất ra màn hình chuỗi\n",
        "\n",
        "'0011334455'\n",
        "\n",
        "Input Format\n",
        "\n",
        ".\n",
        "\n",
        "Constraints\n",
        "\n",
        ".\n",
        "\n",
        "Output Format\n",
        "\n",
        "."
      ]
    },
    {
      "cell_type": "code",
      "metadata": {
        "colab": {
          "base_uri": "https://localhost:8080/"
        },
        "id": "HOfDsjmLA0B6",
        "outputId": "981deffe-fdad-4598-e8ef-97ce41b11aff"
      },
      "source": [
        "#!/bin/python3\n",
        "\n",
        "import math\n",
        "import os\n",
        "import random\n",
        "import re\n",
        "import sys\n",
        "\n",
        "\n",
        "\n",
        "if __name__ == '__main__':\n",
        "    n = int(input().strip())\n",
        "    m = int(input().strip())\n",
        "\n",
        "    # StarCode\n",
        "    s = {value for value in range(n+1)}\n",
        "    s.remove(m)\n",
        "    result = \"\"\n",
        "    for i in s:\n",
        "      result = result + str(i)*2\n",
        "\n",
        "    print(result)\n",
        "    # print(result)\n"
      ],
      "execution_count": null,
      "outputs": [
        {
          "output_type": "stream",
          "text": [
            "5\n",
            "2\n",
            "0011334455\n"
          ],
          "name": "stdout"
        }
      ]
    },
    {
      "cell_type": "markdown",
      "metadata": {
        "id": "8NVjo2xYBhjQ"
      },
      "source": [
        "##ViPy_031_Tìm số lớn nhất"
      ]
    },
    {
      "cell_type": "markdown",
      "metadata": {
        "id": "L6eDsRM-Blv4"
      },
      "source": [
        "Nhập 2 số float a, b\n",
        "\n",
        "Xuất ra số lớn nhất. Nếu a = b xuất ra - 1\n",
        "\n",
        "Input Format\n",
        "\n",
        ".\n",
        "\n",
        "Constraints\n",
        "\n",
        ".\n",
        "\n",
        "Output Format\n",
        "\n",
        "."
      ]
    },
    {
      "cell_type": "code",
      "metadata": {
        "colab": {
          "base_uri": "https://localhost:8080/"
        },
        "id": "falJ0wZiBoKY",
        "outputId": "b4e9b6e0-7fc3-4b66-d953-b4dba3b21986"
      },
      "source": [
        "#!/bin/python3\n",
        "\n",
        "import math\n",
        "import os\n",
        "import random\n",
        "import re\n",
        "import sys\n",
        "\n",
        "\n",
        "\n",
        "if __name__ == '__main__':\n",
        "    # Write your code here\n",
        "    a = float(input())\n",
        "    b = float(input())\n",
        "\n",
        "    if a > b:\n",
        "        print(a)\n",
        "    elif a < b:\n",
        "        print(b)\n",
        "    else:\n",
        "     print(-1)\n",
        "\n"
      ],
      "execution_count": null,
      "outputs": [
        {
          "output_type": "stream",
          "text": [
            "3\n",
            "4\n",
            "4.0\n"
          ],
          "name": "stdout"
        }
      ]
    },
    {
      "cell_type": "markdown",
      "metadata": {
        "id": "16N9TSuCBy1x"
      },
      "source": [
        "##ViPy_032_Tổng số lẻ"
      ]
    },
    {
      "cell_type": "markdown",
      "metadata": {
        "id": "HiVR6M2RB2nH"
      },
      "source": [
        "Cho 2 số nguyên a và b được nhập từ bàn phím, bạn hãy viết chương trình hiển thị ra tổng các số lẻ từ a tới b.\n",
        "\n",
        "Ví dụ nếu bạn nhập a = 3, b = 9 thì màn hình sẽ hiển thị ra:\n",
        "\n",
        "24\n",
        "\n",
        "Giải thích: 3 + 5 + 7 + 9 = 24`.\n",
        "\n",
        "Đầu vào luôn đảm bảo b > a.\n",
        "\n",
        "Input Format\n",
        "\n",
        ".\n",
        "\n",
        "Constraints\n",
        "\n",
        ".\n",
        "\n",
        "Output Format\n",
        "\n",
        "."
      ]
    },
    {
      "cell_type": "code",
      "metadata": {
        "colab": {
          "base_uri": "https://localhost:8080/"
        },
        "id": "Rrjv0wJvBrGT",
        "outputId": "029033d5-f8e6-4d4c-a5ac-915d7d90619b"
      },
      "source": [
        "#!/bin/python3\n",
        "\n",
        "import math\n",
        "import os\n",
        "import random\n",
        "import re\n",
        "import sys\n",
        "\n",
        "\n",
        "\n",
        "if __name__ == '__main__':\n",
        "    a = int(input().strip())\n",
        "\n",
        "    b = int(input().strip())\n",
        "\n",
        "    # Write your code here\n",
        "    s = 0\n",
        "    for i in range(a,b+1):\n",
        "        if i % 2 != 0 :\n",
        "            s += i\n",
        "\n",
        "    print(s)\n"
      ],
      "execution_count": null,
      "outputs": [
        {
          "output_type": "stream",
          "text": [
            "3\n",
            "9\n",
            "24\n"
          ],
          "name": "stdout"
        }
      ]
    },
    {
      "cell_type": "markdown",
      "metadata": {
        "id": "1GEk-EOECDr7"
      },
      "source": [
        "##ViPy_033_List comprehension"
      ]
    },
    {
      "cell_type": "markdown",
      "metadata": {
        "id": "nSemtnR2CEfY"
      },
      "source": [
        "Nhập vào 1 số n\n",
        "\n",
        "Sử dụng list comprehension để tạo 1 list bao gồm các số nguyên chia hết cho n lớn hơn 0 và bé hơn 100\n",
        "\n",
        "In ra màn hình list đó\n",
        "\n",
        "Input Format\n",
        "\n",
        ".\n",
        "\n",
        "Constraints\n",
        "\n",
        ".\n",
        "\n",
        "Output Format\n",
        "\n",
        "."
      ]
    },
    {
      "cell_type": "code",
      "metadata": {
        "colab": {
          "base_uri": "https://localhost:8080/"
        },
        "id": "sPGpIjIIB9ZW",
        "outputId": "d418fe46-a059-4893-8eba-f928e2cfd185"
      },
      "source": [
        "#!/bin/python3\n",
        "\n",
        "import math\n",
        "import os\n",
        "import random\n",
        "import re\n",
        "import sys\n",
        "\n",
        "\n",
        "\n",
        "if __name__ == '__main__':\n",
        "    # Write your code here\n",
        "    n = int(input())\n",
        "    lst = []\n",
        "    for i in range(1,100):\n",
        "        if i % n == 0:\n",
        "            lst.append(i)\n",
        "\n",
        "    print(lst)\n"
      ],
      "execution_count": null,
      "outputs": [
        {
          "output_type": "stream",
          "text": [
            "15\n",
            "[15, 30, 45, 60, 75, 90]\n"
          ],
          "name": "stdout"
        }
      ]
    },
    {
      "cell_type": "markdown",
      "metadata": {
        "id": "lu9B1rCyCUVO"
      },
      "source": [
        "##ViPy_033_sum"
      ]
    },
    {
      "cell_type": "markdown",
      "metadata": {
        "id": "eilYWnEyCWPY"
      },
      "source": [
        "Nhập số n\n",
        "\n",
        "In ra màn hình các cặp giá trị a b. Trong đó\n",
        "\n",
        "0<= a, b <=n\n",
        "\n",
        "a + b = int(1.5 * n)\n",
        "\n",
        "Ví dụ:\n",
        "\n",
        "Input:\n",
        "\n",
        "20\n",
        "\n",
        "Output:\n",
        "\n",
        "10 20\n",
        "\n",
        "11 19\n",
        "\n",
        "12 18\n",
        "\n",
        "13 17\n",
        "\n",
        "14 16\n",
        "\n",
        "15 15\n",
        "\n",
        "16 14\n",
        "\n",
        "17 13\n",
        "\n",
        "18 12\n",
        "\n",
        "19 11\n",
        "\n",
        "20 10\n",
        "\n",
        "Input Format\n",
        "\n",
        ".\n",
        "\n",
        "Constraints\n",
        "\n",
        ".\n",
        "\n",
        "Output Format\n",
        "\n",
        "."
      ]
    },
    {
      "cell_type": "code",
      "metadata": {
        "colab": {
          "base_uri": "https://localhost:8080/"
        },
        "id": "qv7Nt87LCKjr",
        "outputId": "734d7ed8-5b2a-41fa-8fd7-cf152ff331b3"
      },
      "source": [
        "#!/bin/python3\n",
        "\n",
        "import math\n",
        "import os\n",
        "import random\n",
        "import re\n",
        "import sys\n",
        "\n",
        "\n",
        "\n",
        "if __name__ == '__main__':\n",
        "    # Write your code here\n",
        "    n = int(input())\n",
        "    m = int(1.5*n)\n",
        "    b = n\n",
        "    a = m - b\n",
        "\n",
        "    while abs(a)+abs(b)==m:\n",
        "        print(a, b)\n",
        "        a += 1\n",
        "        b -= 1\n",
        "        if a > n or b > n:\n",
        "            break"
      ],
      "execution_count": null,
      "outputs": [
        {
          "output_type": "stream",
          "text": [
            "20\n",
            "10 20\n",
            "11 19\n",
            "12 18\n",
            "13 17\n",
            "14 16\n",
            "15 15\n",
            "16 14\n",
            "17 13\n",
            "18 12\n",
            "19 11\n",
            "20 10\n"
          ],
          "name": "stdout"
        }
      ]
    },
    {
      "cell_type": "markdown",
      "metadata": {
        "id": "GbxbNXfbDunB"
      },
      "source": [
        "##ViPy_041_Print string"
      ]
    },
    {
      "cell_type": "markdown",
      "metadata": {
        "id": "ltvFI1qbDx8B"
      },
      "source": [
        "Cho chuỗi s được nhập vào từ bàn phím, bạn hãy viết chương trình Python để đếm số các chữ cái in hoa và in thường trong chuỗi và in kết quả ra màn hình theo từng dòng như sau:\n",
        "\n",
        "Given string: {P1}\n",
        "\n",
        "Number of uppercase letters: {P2}\n",
        "\n",
        "Number of lowercase letters: {P3}\n",
        "\n",
        "Trong đó:\n",
        "\n",
        "+ {P1} là chuỗi s được nhập vào từ bàn phím.\n",
        "+ {P2} là số các chữ cái in hoa.\n",
        "+ {P3} là số các chữ cái in thường.\n",
        "\n",
        "Ví dụ:\n",
        "\n",
        "Nếu bạn nhập You Are Apple In My Eye thì màn hình sẽ hiển thị ra:\n",
        "\n",
        "Given string: You Are Apple In My Eye\n",
        "\n",
        "Number of uppercase letters: 6\n",
        "\n",
        "Number of lowercase letters: 12\n",
        "\n",
        "Input Format\n",
        "\n",
        ".\n",
        "\n",
        "Constraints\n",
        "\n",
        ".\n",
        "\n",
        "Output Format\n",
        "\n",
        "."
      ]
    },
    {
      "cell_type": "code",
      "metadata": {
        "colab": {
          "base_uri": "https://localhost:8080/"
        },
        "id": "TvBHYtmuDoJE",
        "outputId": "adc2d3ce-4926-4e4c-f9ba-631f37a70694"
      },
      "source": [
        "s = input()\n",
        "\n",
        "Count_Upper = 0\n",
        "Count_Lower = 0\n",
        "\n",
        "for i in range(0, len(s)):\n",
        "    if s[i].islower():\n",
        "        Count_Lower += 1\n",
        "    elif s[i].isupper():\n",
        "        Count_Upper += 1\n",
        "    else:\n",
        "        continue\n",
        "\n",
        "print('Given string: {}'.format(s))\n",
        "print('Number of uppercase letters: {}'.format(Count_Upper))\n",
        "print('Number of lowercase letters: {}'.format(Count_Lower))"
      ],
      "execution_count": null,
      "outputs": [
        {
          "output_type": "stream",
          "text": [
            "You Are Apple In My Eye\n",
            "Given string: You Are Apple In My Eye\n",
            "Number of uppercase letters: 6\n",
            "Number of lowercase letters: 12\n"
          ],
          "name": "stdout"
        }
      ]
    },
    {
      "cell_type": "markdown",
      "metadata": {
        "id": "E4zUjE4eENGW"
      },
      "source": [
        "##ViPy_042_max"
      ]
    },
    {
      "cell_type": "markdown",
      "metadata": {
        "id": "PcTwUUTtERH1"
      },
      "source": [
        "Nhập 2 string bao gồm danh sách các số nguyên cách nhau bởi dấu ,\n",
        "\n",
        "Số lượng số nguyên ở 2 danh sách là như sau.\n",
        "\n",
        "In ra màn hình danh sách mới là số lớn nhất trong 2 danh sách theo từng thứ tự phần tử.\n",
        "\n",
        "Ví dụ\n",
        "\n",
        "Input\n",
        "\n",
        "1,3,5,5,7,4\n",
        "\n",
        "4,6,2,1,6,3\n",
        "\n",
        "Outputt\n",
        "\n",
        "4,6,5,5,7,4\n",
        "\n",
        "Input Format\n",
        "\n",
        ".\n",
        "\n",
        "Constraints\n",
        "\n",
        ".\n",
        "\n",
        "Output Format\n",
        "\n",
        "."
      ]
    },
    {
      "cell_type": "code",
      "metadata": {
        "colab": {
          "base_uri": "https://localhost:8080/"
        },
        "id": "5cdplg02EEfw",
        "outputId": "ffd5c921-3ce4-44c6-e9ea-e23ea55742ce"
      },
      "source": [
        "s1 = input()\n",
        "s2 = input()\n",
        "\n",
        "lst1 = []\n",
        "lst2 = []\n",
        "result = ''\n",
        "\n",
        "lst1 = s1.split(',')\n",
        "lst2 = s2.split(',')\n",
        "\n",
        "for i in range(len(lst1)):\n",
        "  if int(lst1[i]) > int(lst2[i]):\n",
        "    result = result + lst1[i] + ','\n",
        "  else:\n",
        "    result = result + lst2[i] + ','\n",
        "\n",
        "result = result[:-1]\n",
        "print(result)"
      ],
      "execution_count": null,
      "outputs": [
        {
          "output_type": "stream",
          "text": [
            "1,3,5,5,7,4\n",
            "4,6,2,1,6,3\n",
            "4,6,5,5,7,4\n"
          ],
          "name": "stdout"
        }
      ]
    },
    {
      "cell_type": "code",
      "metadata": {
        "id": "c9pGQcBYEYEL"
      },
      "source": [],
      "execution_count": null,
      "outputs": []
    }
  ]
}
